{
 "cells": [
  {
   "cell_type": "markdown",
   "id": "57b2adcb-f4c7-45d7-897f-3f5eafe6b473",
   "metadata": {},
   "source": [
    "1.\tFind the Factorial: Write a function to find the factorial of a number."
   ]
  },
  {
   "cell_type": "code",
   "execution_count": 5,
   "id": "9cc82e27-58a8-4727-a72c-bea9a65234e3",
   "metadata": {},
   "outputs": [
    {
     "name": "stdin",
     "output_type": "stream",
     "text": [
      "Enter a number 10\n"
     ]
    },
    {
     "name": "stdout",
     "output_type": "stream",
     "text": [
      "The factorial is 3628800\n"
     ]
    }
   ],
   "source": [
    "# 5! = 5*4*3*2*1 = 120\n",
    "def factorial(num):\n",
    "    result  = 1\n",
    "    if num == 0:\n",
    "        print(\"Enter a valid number\")\n",
    "    else:\n",
    "        for i in range(num+1):\n",
    "            if i>0:\n",
    "                result *= i\n",
    "    return result\n",
    "number = int(input(\"Enter a number\"))\n",
    "print(\"The factorial is {}\".format(factorial(number)))\n",
    "            \n",
    "            "
   ]
  },
  {
   "cell_type": "code",
   "execution_count": 4,
   "id": "90ff0389-acf8-4080-a656-1c7755782635",
   "metadata": {},
   "outputs": [
    {
     "name": "stderr",
     "output_type": "stream",
     "text": [
      "E\n",
      "======================================================================\n",
      "ERROR: C:\\Users\\hp\\AppData\\Roaming\\jupyter\\runtime\\kernel-ee017d56-30a8-4df7-8503-fdf23ffadfc0 (unittest.loader._FailedTest.C:\\Users\\hp\\AppData\\Roaming\\jupyter\\runtime\\kernel-ee017d56-30a8-4df7-8503-fdf23ffadfc0)\n",
      "----------------------------------------------------------------------\n",
      "AttributeError: module '__main__' has no attribute 'C:\\Users\\hp\\AppData\\Roaming\\jupyter\\runtime\\kernel-ee017d56-30a8-4df7-8503-fdf23ffadfc0'\n",
      "\n",
      "----------------------------------------------------------------------\n",
      "Ran 1 test in 0.006s\n",
      "\n",
      "FAILED (errors=1)\n"
     ]
    },
    {
     "ename": "SystemExit",
     "evalue": "1",
     "output_type": "error",
     "traceback": [
      "An exception has occurred, use %tb to see the full traceback.\n",
      "\u001b[1;31mSystemExit\u001b[0m\u001b[1;31m:\u001b[0m 1\n"
     ]
    },
    {
     "name": "stderr",
     "output_type": "stream",
     "text": [
      "C:\\Users\\hp\\AppData\\Roaming\\Python\\Python312\\site-packages\\IPython\\core\\interactiveshell.py:3585: UserWarning: To exit: use 'exit', 'quit', or Ctrl-D.\n",
      "  warn(\"To exit: use 'exit', 'quit', or Ctrl-D.\", stacklevel=1)\n"
     ]
    }
   ],
   "source": [
    "from unittest import TestCase, main\n",
    "\n",
    "class testing(TestCase):\n",
    "    def checkfactorial(self):\n",
    "        expected = 120\n",
    "        actual = factorial(5)\n",
    "        self.assertEqual(expected, actual)\n",
    "    def chcekfactorial2(self):\n",
    "        expected = 3628800\n",
    "        actual = factorial(10)\n",
    "        self.assertEqual(expected, actual)\n",
    "\n",
    "if __name__ == \"__main__\":\n",
    "    main()"
   ]
  },
  {
   "cell_type": "markdown",
   "id": "15df2331-89fb-4afa-af8f-597b1a39d1da",
   "metadata": {},
   "source": [
    "2.\tCheck for Palindrome: Write a function to check if a given string is a palindrome."
   ]
  },
  {
   "cell_type": "code",
   "execution_count": 10,
   "id": "528026a0-51a2-4c6e-9ef6-10d72497ea26",
   "metadata": {},
   "outputs": [
    {
     "name": "stdin",
     "output_type": "stream",
     "text": [
      "Enter a string god\n"
     ]
    },
    {
     "name": "stdout",
     "output_type": "stream",
     "text": [
      "False\n"
     ]
    }
   ],
   "source": [
    "def is_palindrome(string):\n",
    "    actual_string = string\n",
    "    reversed_string = string[::-1]\n",
    "    if actual_string == reversed_string:\n",
    "        print(\"True\")\n",
    "    else:\n",
    "        print(\"False\")\n",
    "string = input(\"Enter a string\")\n",
    "is_palindrome(string)"
   ]
  },
  {
   "cell_type": "code",
   "execution_count": 2,
   "id": "8ee3d40f-26de-4ce2-9e65-9c8e09a7cd7b",
   "metadata": {},
   "outputs": [
    {
     "name": "stdin",
     "output_type": "stream",
     "text": [
      "Enter a string mummy\n"
     ]
    },
    {
     "name": "stdout",
     "output_type": "stream",
     "text": [
      "m\n",
      "um\n",
      "mum\n",
      "mmum\n",
      "ymmum\n",
      "False\n"
     ]
    }
   ],
   "source": [
    "def is_palindrome_1(string):\n",
    "    new_string =\"\"\n",
    "    for i in range(len(string)):\n",
    "        new_string = string[i] + new_string\n",
    "        print(new_string)\n",
    "    if new_string == string:\n",
    "        print(\"True\")\n",
    "    else:\n",
    "        print(\"False\")\n",
    "\n",
    "string = input(\"Enter a string\")\n",
    "is_palindrome_1(string)       \n",
    "        "
   ]
  },
  {
   "cell_type": "markdown",
   "id": "94a44c81-9e6c-4c85-a9ea-cf780814dbe0",
   "metadata": {},
   "source": [
    "3.\tFibonacci Sequence: Write a function to generate the first n numbers in the Fibonacci sequence."
   ]
  },
  {
   "cell_type": "code",
   "execution_count": 28,
   "id": "2405f930-d2f7-4831-b189-9d22e53b13a3",
   "metadata": {},
   "outputs": [
    {
     "name": "stdin",
     "output_type": "stream",
     "text": [
      "Enter a number 20\n"
     ]
    },
    {
     "name": "stdout",
     "output_type": "stream",
     "text": [
      "1\n",
      "1\n",
      "2\n",
      "3\n",
      "5\n",
      "8\n",
      "13\n",
      "21\n",
      "34\n",
      "55\n",
      "89\n",
      "144\n",
      "233\n",
      "377\n",
      "610\n",
      "987\n",
      "1597\n",
      "2584\n",
      "4181\n"
     ]
    }
   ],
   "source": [
    "# 1, 1, 2, 3, 5, 8, 13, 21, \n",
    "def fibbi(num):\n",
    "    k = 0\n",
    "    n = 1\n",
    "    print(n)\n",
    "    for i in range(num-2):\n",
    "        k,n = n,k+n\n",
    "        print(n)\n",
    "\n",
    "no = int(input(\"Enter a number\"))\n",
    "fibbi(no)\n",
    "        \n",
    "    \n",
    "    "
   ]
  },
  {
   "cell_type": "code",
   "execution_count": 29,
   "id": "97b9ccee-33b8-44ee-b057-97001fc45844",
   "metadata": {},
   "outputs": [
    {
     "name": "stdin",
     "output_type": "stream",
     "text": [
      "Enter a number:  5\n"
     ]
    },
    {
     "name": "stdout",
     "output_type": "stream",
     "text": [
      "0\n",
      "1\n",
      "1\n",
      "2\n",
      "3\n"
     ]
    }
   ],
   "source": [
    "def fibbi(num):\n",
    "    k = 0\n",
    "    n = 1\n",
    "    print(k)\n",
    "    print(n)\n",
    "    for i in range(num - 2):\n",
    "        temp = n\n",
    "        n = k + n\n",
    "        k = temp\n",
    "        print(n)\n",
    "\n",
    "no = int(input(\"Enter a number: \"))\n",
    "fibbi(no)\n"
   ]
  },
  {
   "cell_type": "markdown",
   "id": "3c47d51e-f73f-45c1-beab-af520f013b56",
   "metadata": {},
   "source": [
    "4.\tSum of Digits: Write a function to find the sum of digits of a number."
   ]
  },
  {
   "cell_type": "code",
   "execution_count": 34,
   "id": "77942617-3c41-47da-8332-6e6fa7b0a471",
   "metadata": {},
   "outputs": [
    {
     "name": "stdin",
     "output_type": "stream",
     "text": [
      "Enter a number   5\n",
      "Enter another number   5\n"
     ]
    },
    {
     "name": "stdout",
     "output_type": "stream",
     "text": [
      "Sum is 10\n"
     ]
    }
   ],
   "source": [
    "def summed(a,b):\n",
    "    add = eval('a+b')\n",
    "    print(\"Sum is {}\".format(add))\n",
    "\n",
    "x = int(input(\"Enter a number  \"))\n",
    "y = int(input(\"Enter another number  \"))\n",
    "\n",
    "summed(x,y)"
   ]
  },
  {
   "cell_type": "markdown",
   "id": "9722611f-80e1-45d0-891c-1ae77551c131",
   "metadata": {},
   "source": [
    "5.\tPrime Numbers: Write a function to check if a number is prime.\n",
    "    "
   ]
  },
  {
   "cell_type": "markdown",
   "id": "48d8bed5-7bd4-4919-909e-99302397f9b3",
   "metadata": {},
   "source": [
    "3 conditions for a num to be prime is \n",
    "- it is divisible by 1 or itself only\n",
    "- it is not didvisible by any number less than that number"
   ]
  },
  {
   "cell_type": "code",
   "execution_count": 46,
   "id": "d4ce24c4-31ed-435c-96c1-c77f7dbbf305",
   "metadata": {},
   "outputs": [
    {
     "name": "stdout",
     "output_type": "stream",
     "text": [
      "The number is 11\n",
      "11 is prime\n"
     ]
    }
   ],
   "source": [
    "import random\n",
    "x = random.randint(1,100)\n",
    "print(\"The number is {}\".format(x))\n",
    "\n",
    "if x == 1:\n",
    "    print(\"{} is prime\".format(x))\n",
    "else:\n",
    "    y = x - 1\n",
    "    is_prime = True\n",
    "    while y > 1:\n",
    "        if x % y == 0:\n",
    "            is_prime = False\n",
    "            break\n",
    "        y -= 1\n",
    "    if is_prime:\n",
    "        print(\"{} is prime\".format(x))\n",
    "    else:\n",
    "        print(\"{} is not prime\".format(x))          "
   ]
  },
  {
   "cell_type": "markdown",
   "id": "8bedb01c-f472-4535-ade8-b08736d757e9",
   "metadata": {},
   "source": [
    "6.\tList Comprehensions: Use list comprehensions to create a list of squares of the first n natural numbers."
   ]
  },
  {
   "cell_type": "code",
   "execution_count": 51,
   "id": "1d2ea8f2-931a-450b-820b-1edbd9a76fcc",
   "metadata": {},
   "outputs": [
    {
     "name": "stdin",
     "output_type": "stream",
     "text": [
      "Enter a number 10\n"
     ]
    },
    {
     "name": "stdout",
     "output_type": "stream",
     "text": [
      "[1, 2, 3, 4, 5, 6, 7, 8, 9, 10]\n",
      "[1, 4, 9, 16, 25, 36, 49, 64, 81, 100]\n"
     ]
    }
   ],
   "source": [
    "def newlist(n):\n",
    "    \n",
    "    new_list = [ i for i in range(1,n+1) ]\n",
    "    sq_list = [i**2 for i in new_list]\n",
    "    print(new_list)\n",
    "    print(sq_list)\n",
    "\n",
    "num = int(input(\"Enter a number\"))\n",
    "newlist(num)"
   ]
  },
  {
   "cell_type": "markdown",
   "id": "157911ff-2b84-474f-a98b-96e3612da8e1",
   "metadata": {},
   "source": [
    "7.\tMerge Two Lists: Write a function to merge two sorted lists into a single sorted list."
   ]
  },
  {
   "cell_type": "code",
   "execution_count": 61,
   "id": "f78756e3-ece3-4d11-8faf-226c9a01f375",
   "metadata": {},
   "outputs": [
    {
     "name": "stdout",
     "output_type": "stream",
     "text": [
      "[580, 216, 832, 546, 381, 404, 528, 178, 890, 156, 111] \n",
      " [876, 621, 533, 870, 766, 506, 953, 727, 632, 679, 732]\n",
      "Sorted and merged list = [111, 156, 178, 216, 381, 404, 506, 528, 533, 546, 580, 621, 632, 679, 727, 732, 766, 832, 870, 876, 890, 953]\n"
     ]
    }
   ],
   "source": [
    "import random\n",
    "list1 = []\n",
    "list2 = []\n",
    "for i in range(11):\n",
    "    list1.append(random.randint(1,1000))\n",
    "    list2.append(random.randint(500,1000))\n",
    "print(list1,'\\n',list2)\n",
    "\n",
    "def merge_list(l1,l2):\n",
    "    l = []\n",
    "    for i in l1:\n",
    "        l.append(i)\n",
    "    for i in l2:\n",
    "        l.append(i)\n",
    "    l = sorted(l)\n",
    "    print(\"Sorted and merged list = {}\".format(l))\n",
    "\n",
    "merge_list(list1,list2)\n",
    "    \n"
   ]
  },
  {
   "cell_type": "markdown",
   "id": "f1610201-7d2b-4f46-b1d6-39d5a992b5f6",
   "metadata": {},
   "source": [
    "8.\tFind Duplicates: Write a function to find duplicate elements in a list."
   ]
  },
  {
   "cell_type": "code",
   "execution_count": 66,
   "id": "e1384d02-27f3-474e-a537-4f3a1f4b1318",
   "metadata": {},
   "outputs": [
    {
     "name": "stdout",
     "output_type": "stream",
     "text": [
      "The duplicates are [4, 7, 22, 55, 66]\n"
     ]
    }
   ],
   "source": [
    "mylist = [1,2,3,4,4,4,5,6,7,7,8,9,10,11,22,22,33,44,55,55,66,66,100] #4,7,22,55,66\n",
    "list = []\n",
    "dup = []\n",
    "def duplicates(mylist):\n",
    "    for i in mylist:\n",
    "        if i not in list:\n",
    "            list.append(i)\n",
    "        else:\n",
    "            dup.append(i)\n",
    "    print(\"The duplicates are {}\".format(sorted(set(dup))))\n",
    "\n",
    "duplicates(mylist)\n",
    "    "
   ]
  },
  {
   "cell_type": "markdown",
   "id": "ad696600-548b-4758-b301-65160b5686b5",
   "metadata": {},
   "source": [
    "9.\tAnagram Check: Write a function to check if two strings are anagrams."
   ]
  },
  {
   "cell_type": "code",
   "execution_count": 73,
   "id": "29796cc5-d170-4de6-a38c-5b219e524d24",
   "metadata": {},
   "outputs": [
    {
     "name": "stdout",
     "output_type": "stream",
     "text": [
      "Anagrams of each other\n",
      "Not anagram of each other\n",
      "Not anagram of each other\n"
     ]
    }
   ],
   "source": [
    "from nltk.corpus import words\n",
    "from itertools import permutations\n",
    "\n",
    "valid_words = set(words.words())\n",
    "\n",
    "def anagrams(word1, word2):\n",
    "    perms = [''.join(i) for i in permutations(word1)]\n",
    "    anagram = set(perms) & valid_words\n",
    "    if word2 in anagram:\n",
    "        print(\"Anagrams of each other\")\n",
    "    else:\n",
    "        print(\"Not anagram of each other\")\n",
    "\n",
    "anagrams('listen','silent') #True\n",
    "anagrams('pet','tep') # false because it is not a meaning full word\n",
    "anagrams('lissy', 'look') # false"
   ]
  },
  {
   "cell_type": "markdown",
   "id": "0bff11dc-bd4f-4978-b99d-50f4953400e1",
   "metadata": {},
   "source": [
    "10.\tMatrix Transpose: Write a function to transpose a matrix."
   ]
  },
  {
   "cell_type": "code",
   "execution_count": 77,
   "id": "21eaca1a-6d4a-4dfb-9f82-260f19f9ceaf",
   "metadata": {},
   "outputs": [
    {
     "name": "stdout",
     "output_type": "stream",
     "text": [
      "[[1 2 3]\n",
      " [4 5 6]\n",
      " [7 8 9]]\n",
      "[[1 4 7]\n",
      " [2 5 8]\n",
      " [3 6 9]]\n"
     ]
    }
   ],
   "source": [
    "# 11 12 13  i=1 j= 123      11 21 31  i=1,2,3 j=1\n",
    "# 21 22 23  i=2 j=123       12 22 32  i=1,2,3, j=2  \n",
    "# 31 32 33  i=3 j=123       13 23 33  i=1,2,3 j=3\n",
    "import numpy as np\n",
    "\n",
    "mat = np.array([[1, 2, 3], [4, 5, 6], [7, 8, 9]])\n",
    "trans_mat = np.zeros((3,3), dtype = 'int')\n",
    "for i in range(3):\n",
    "    for j in range(3):\n",
    "        trans_mat[i,j] = mat[j,i]\n",
    "\n",
    "print(mat)\n",
    "print(trans_mat)\n",
    "\n",
    "\n"
   ]
  },
  {
   "cell_type": "markdown",
   "id": "13f2005f-2219-4770-aa51-3ce1149ee1b9",
   "metadata": {},
   "source": [
    "12.\tCount Vowels: Write a function to count the number of vowels in a string."
   ]
  },
  {
   "cell_type": "code",
   "execution_count": 89,
   "id": "7f11fe5a-62cd-4371-9125-1d384bec3241",
   "metadata": {},
   "outputs": [
    {
     "name": "stdin",
     "output_type": "stream",
     "text": [
      "Enter a string banana\n"
     ]
    },
    {
     "name": "stdout",
     "output_type": "stream",
     "text": [
      "Vowels = 3\n"
     ]
    }
   ],
   "source": [
    "vowels = ['a','e','i','o','u']\n",
    "string = input(\"Enter a string\")\n",
    "\n",
    "\n",
    "def counts(string):\n",
    "    count = 0\n",
    "    for i in string:\n",
    "        if i in vowels:\n",
    "            count+=1\n",
    "    print(\"Vowels = {}\".format(count))\n",
    "\n",
    "counts(string)"
   ]
  },
  {
   "cell_type": "markdown",
   "id": "cb31f1ef-5aa9-47e4-a676-51c47997b892",
   "metadata": {},
   "source": [
    "13.\tRemove Duplicates: Write a function to remove duplicates from a list."
   ]
  },
  {
   "cell_type": "code",
   "execution_count": 90,
   "id": "b86fff4a-88ba-4439-8966-113ada26d771",
   "metadata": {},
   "outputs": [
    {
     "name": "stdout",
     "output_type": "stream",
     "text": [
      "The new list without the duplicates: \n",
      "\n",
      " [1, 2, 3, 4, 5, 6, 7, 8, 9, 10]\n"
     ]
    }
   ],
   "source": [
    "def remove_duplicates(my_list):\n",
    "    new_list = []\n",
    "    for i in my_list:\n",
    "        if i not in new_list:\n",
    "            new_list.append(i)\n",
    "    print(\"The new list without the duplicates: \\n\\n {}\".format(new_list))\n",
    "\n",
    "lists = [1,1,2,2,3,3,4,5,6,7,7,8,8,9,9,10,10]\n",
    "\n",
    "remove_duplicates(lists)\n",
    "            \n",
    "    "
   ]
  },
  {
   "cell_type": "code",
   "execution_count": 94,
   "id": "6031dab9-674d-4c4b-8963-b32017d88fdd",
   "metadata": {},
   "outputs": [
    {
     "name": "stdout",
     "output_type": "stream",
     "text": [
      "The new list without the duplicates: \n",
      "\n",
      " [1, 2, 3, 4, 5, 6, 7, 8, 9, 10]\n"
     ]
    }
   ],
   "source": [
    "def remove_duplicates(my_list):\n",
    "    new_list= set(my_list)\n",
    "    \n",
    "    print(\"The new list without the duplicates: \\n\\n {}\".format(sorted(new_list)))\n",
    "\n",
    "lists = [1,1,2,2,3,3,4,5,6,7,7,8,8,9,9,10,10]\n",
    "\n",
    "remove_duplicates(lists)\n",
    "            \n",
    "    "
   ]
  },
  {
   "cell_type": "code",
   "execution_count": 95,
   "id": "833bf117-d1d0-4fb4-8059-372e9f01471d",
   "metadata": {},
   "outputs": [
    {
     "name": "stdout",
     "output_type": "stream",
     "text": [
      "The new list without the duplicates: \n",
      "\n",
      " [1, 2, 3, 4, 5, 6, 7, 8, 9, 10]\n"
     ]
    }
   ],
   "source": [
    "def remove_duplicates(my_list):\n",
    "    new = set(my_list)\n",
    "    new_list = []\n",
    "    for i in new:\n",
    "        new_list.append(i)\n",
    "    print(\"The new list without the duplicates: \\n\\n {}\".format(new_list))\n",
    "\n",
    "lists = [1,1,2,2,3,3,4,5,6,7,7,8,8,9,9,10,10]\n",
    "\n",
    "remove_duplicates(lists)\n",
    "            \n",
    "    "
   ]
  },
  {
   "cell_type": "markdown",
   "id": "dfd95aee-2ce6-4cef-9829-efd1ebbd8a2d",
   "metadata": {},
   "source": [
    "14.\tLongest Substring Without Repeating Characters: Write a function to find the longest substring without repeating characters."
   ]
  },
  {
   "cell_type": "code",
   "execution_count": 97,
   "id": "cff1029f-33bf-4697-b1a0-b175456deab8",
   "metadata": {},
   "outputs": [
    {
     "name": "stdout",
     "output_type": "stream",
     "text": [
      "The longest substring is abd\n"
     ]
    }
   ],
   "source": [
    "def longest(string):\n",
    "    substring = \"\"\n",
    "    for i in string:\n",
    "        if i not in substring:\n",
    "            substring += i\n",
    "        else:\n",
    "            break\n",
    "    print(\"The longest substring is {}\".format(substring))\n",
    "\n",
    "longest('abdabde')"
   ]
  },
  {
   "cell_type": "markdown",
   "id": "50e34f39-b67e-4a5e-895a-0ea46289b9e6",
   "metadata": {},
   "source": [
    "15.\tFind Intersection: Write a function to find the intersection of two lists."
   ]
  },
  {
   "cell_type": "code",
   "execution_count": 100,
   "id": "cddec6a5-2170-43a0-b326-047f3327dbf4",
   "metadata": {},
   "outputs": [
    {
     "name": "stdout",
     "output_type": "stream",
     "text": [
      "[1, 2, 3]\n"
     ]
    }
   ],
   "source": [
    "def intersection(l1,l2):\n",
    "    intersection = []\n",
    "    for i in l1:\n",
    "        if i in l2:\n",
    "            intersection.append(i)\n",
    "    print(intersection)\n",
    "\n",
    "list1 = [1,2,3,4,5]\n",
    "list2 = [1,2,3,7,8]\n",
    "intersection(list1, list2)"
   ]
  },
  {
   "cell_type": "markdown",
   "id": "9501d27b-0ffd-433e-bba0-eb2cc4b688e5",
   "metadata": {},
   "source": [
    "16.\tFlatten a Nested List: Write a function to flatten a nested list."
   ]
  },
  {
   "cell_type": "code",
   "execution_count": 114,
   "id": "0dbbb19d-486f-485e-bff7-aefe1221750d",
   "metadata": {},
   "outputs": [
    {
     "ename": "TypeError",
     "evalue": "isinstance() arg 2 must be a type, a tuple of types, or a union",
     "output_type": "error",
     "traceback": [
      "\u001b[1;31m---------------------------------------------------------------------------\u001b[0m",
      "\u001b[1;31mTypeError\u001b[0m                                 Traceback (most recent call last)",
      "Cell \u001b[1;32mIn[114], line 11\u001b[0m\n\u001b[0;32m      8\u001b[0m         \u001b[38;5;28;01melse\u001b[39;00m:\n\u001b[0;32m      9\u001b[0m             flat_list\u001b[38;5;241m.\u001b[39mappend(i)\n\u001b[1;32m---> 11\u001b[0m \u001b[43mflatten\u001b[49m\u001b[43m(\u001b[49m\u001b[43mnested_list\u001b[49m\u001b[43m)\u001b[49m\n\u001b[0;32m     12\u001b[0m \u001b[38;5;28mprint\u001b[39m(flat_list)\n",
      "Cell \u001b[1;32mIn[114], line 6\u001b[0m, in \u001b[0;36mflatten\u001b[1;34m(nested_list)\u001b[0m\n\u001b[0;32m      4\u001b[0m \u001b[38;5;28;01mdef\u001b[39;00m \u001b[38;5;21mflatten\u001b[39m(nested_list):\n\u001b[0;32m      5\u001b[0m     \u001b[38;5;28;01mfor\u001b[39;00m i \u001b[38;5;129;01min\u001b[39;00m nested_list:\n\u001b[1;32m----> 6\u001b[0m         \u001b[38;5;28;01mif\u001b[39;00m \u001b[38;5;28;43misinstance\u001b[39;49m\u001b[43m(\u001b[49m\u001b[43mi\u001b[49m\u001b[43m,\u001b[49m\u001b[43m \u001b[49m\u001b[38;5;28;43mlist\u001b[39;49m\u001b[43m)\u001b[49m:\n\u001b[0;32m      7\u001b[0m             flatten(i)\n\u001b[0;32m      8\u001b[0m         \u001b[38;5;28;01melse\u001b[39;00m:\n",
      "\u001b[1;31mTypeError\u001b[0m: isinstance() arg 2 must be a type, a tuple of types, or a union"
     ]
    }
   ],
   "source": [
    "nested_list = [1, [2, 3], [4, [5, 6]], 7]\n",
    "flat_list = []\n",
    "\n",
    "def flatten(nested_list):\n",
    "    for i in nested_list:\n",
    "        if isinstance(i, list):\n",
    "            flatten(i)\n",
    "        else:\n",
    "            flat_list.append(i)\n",
    "\n",
    "flatten(nested_list)\n",
    "print(flat_list)\n",
    "\n"
   ]
  },
  {
   "attachments": {
    "99b2394c-847d-4ba1-a690-a562887de51d.png": {
     "image/png": "[encoded data removed]"
    }
   },
   "cell_type": "markdown",
   "id": "2b5db738-78eb-4a4c-82cf-7b44f4dd6b98",
   "metadata": {},
   "source": [
    "the output for the above program\n",
    "\n",
    "![{81CF8754-FDE2-4303-80E6-935EFB518FC3}.png](attachment:99b2394c-847d-4ba1-a690-a562887de51d.png)"
   ]
  },
  {
   "cell_type": "markdown",
   "id": "7fe08488-3a2d-4e85-af77-32977c6e31e5",
   "metadata": {},
   "source": [
    "17.\tGroup Anagrams: Write a function to group anagrams from a list of strings."
   ]
  },
  {
   "cell_type": "code",
   "execution_count": 132,
   "id": "c1dd276f-3078-4a8a-86bf-0289301d02f8",
   "metadata": {},
   "outputs": [
    {
     "name": "stderr",
     "output_type": "stream",
     "text": [
      "[nltk_data] Downloading package words to\n",
      "[nltk_data]     C:\\Users\\hp\\AppData\\Roaming\\nltk_data...\n",
      "[nltk_data]   Package words is already up-to-date!\n"
     ]
    },
    {
     "name": "stdout",
     "output_type": "stream",
     "text": [
      "['tea', 'eat', 'ate']\n",
      "['tea', 'eat', 'ate']\n",
      "['nat', 'tan']\n",
      "['tea', 'eat', 'ate']\n",
      "['nat', 'tan']\n",
      "['bat']\n"
     ]
    }
   ],
   "source": [
    "from itertools import permutations\n",
    "import nltk\n",
    "from nltk.corpus import words\n",
    "\n",
    "nltk.download('words')\n",
    "\n",
    "validwords = set(words.words())\n",
    "\n",
    "def anagram(anagram_list):\n",
    "    for word in anagram_list:\n",
    "        perms = [''.join(w) for w in permutations(word)]\n",
    "        result = set(perms) & validwords\n",
    "        filtered_result = result & set(anagram_list)\n",
    "        if filtered_result:\n",
    "            new_result = []\n",
    "            for j in filtered_result:\n",
    "                new_result.append(j)\n",
    "                \n",
    "            print(new_result)\n",
    "\n",
    "anagram([\"eat\", \"tea\", \"tan\", \"ate\", \"nat\", \"bat\"])\n"
   ]
  },
  {
   "cell_type": "markdown",
   "id": "d8ccaf9b-1d30-40c1-a7dc-a9b4244dd4de",
   "metadata": {},
   "source": [
    "18.\tRotate Matrix: Write a function to rotate a matrix by 90 degrees."
   ]
  },
  {
   "cell_type": "code",
   "execution_count": 140,
   "id": "ca7ea04d-51d3-4ca7-9e55-a1b17c90a001",
   "metadata": {},
   "outputs": [
    {
     "name": "stdout",
     "output_type": "stream",
     "text": [
      "[[7 4 1]\n",
      " [8 5 2]\n",
      " [9 6 3]]\n"
     ]
    }
   ],
   "source": [
    "# # clockwise rotation\n",
    "# 1 2 3         7 4 1     11 12 13    31 21 11     1+2=3,1  1+1=2,2-1=1  1+0=1,3-2=1\n",
    "# 4 5 6         8 5 2     21 22 23    32 22 12\n",
    "# 7 8 9         9 6 3     31 32 33    33 23 13\n",
    "import numpy as np\n",
    "matrix = np.array([[1,2,3],[4,5,6],[7,8,9]])\n",
    "rotated = np.zeros((3,3), dtype = int)\n",
    "for i in range(3):\n",
    "    for j in range(3):\n",
    "        rotated[j][2 - i] = matrix[i][j]\n",
    "print(rotated)"
   ]
  },
  {
   "cell_type": "markdown",
   "id": "744bb3e2-1373-4694-8b89-8e29b02e6d6b",
   "metadata": {},
   "source": [
    "19.\tFind Missing Number: Write a function to find the missing number in a list of integers from 1 to n"
   ]
  },
  {
   "cell_type": "code",
   "execution_count": 143,
   "id": "ab1cd38d-5edd-4199-8dfd-bc85af1fa726",
   "metadata": {},
   "outputs": [
    {
     "name": "stdin",
     "output_type": "stream",
     "text": [
      "Enter a number:  10\n",
      "Enter the list of numbers separated by spaces:  10 2 0 20 30 40 50 60\n"
     ]
    },
    {
     "ename": "TypeError",
     "evalue": "'list' object is not callable",
     "output_type": "error",
     "traceback": [
      "\u001b[1;31m---------------------------------------------------------------------------\u001b[0m",
      "\u001b[1;31mTypeError\u001b[0m                                 Traceback (most recent call last)",
      "Cell \u001b[1;32mIn[143], line 11\u001b[0m\n\u001b[0;32m      8\u001b[0m         \u001b[38;5;28mprint\u001b[39m(\u001b[38;5;124m\"\u001b[39m\u001b[38;5;124mThe list of missing numbers are \u001b[39m\u001b[38;5;132;01m{}\u001b[39;00m\u001b[38;5;124m\"\u001b[39m\u001b[38;5;241m.\u001b[39mformat(missing_nums))\n\u001b[0;32m     10\u001b[0m n \u001b[38;5;241m=\u001b[39m \u001b[38;5;28mint\u001b[39m(\u001b[38;5;28minput\u001b[39m(\u001b[38;5;124m\"\u001b[39m\u001b[38;5;124mEnter a number: \u001b[39m\u001b[38;5;124m\"\u001b[39m))\n\u001b[1;32m---> 11\u001b[0m input_list \u001b[38;5;241m=\u001b[39m \u001b[38;5;28;43mlist\u001b[39;49m\u001b[43m(\u001b[49m\u001b[38;5;28;43mmap\u001b[39;49m\u001b[43m(\u001b[49m\u001b[38;5;28;43mint\u001b[39;49m\u001b[43m,\u001b[49m\u001b[43m \u001b[49m\u001b[38;5;28;43minput\u001b[39;49m\u001b[43m(\u001b[49m\u001b[38;5;124;43m\"\u001b[39;49m\u001b[38;5;124;43mEnter the list of numbers separated by spaces: \u001b[39;49m\u001b[38;5;124;43m\"\u001b[39;49m\u001b[43m)\u001b[49m\u001b[38;5;241;43m.\u001b[39;49m\u001b[43msplit\u001b[49m\u001b[43m(\u001b[49m\u001b[43m)\u001b[49m\u001b[43m)\u001b[49m\u001b[43m)\u001b[49m\n\u001b[0;32m     12\u001b[0m missing_num(n, input_list)\n",
      "\u001b[1;31mTypeError\u001b[0m: 'list' object is not callable"
     ]
    }
   ],
   "source": [
    "def missing_num(n, input_list):\n",
    "    my_list = [i for i in range(1, n + 1)]\n",
    "    missing_nums = [i for i in my_list if i not in input_list]\n",
    "    \n",
    "    if len(missing_nums) == 0:\n",
    "        print(\"There are no missing numbers\")\n",
    "    else:\n",
    "        print(\"The list of missing numbers are {}\".format(missing_nums))\n",
    "\n",
    "n = int(input(\"Enter a number: \"))\n",
    "input_list = list(map(int, input(\"Enter the list of numbers separated by spaces: \").split()))\n",
    "missing_num(n, input_list)\n"
   ]
  },
  {
   "cell_type": "markdown",
   "id": "3e6c6685-34a9-4af5-80ce-bdfacab6caf5",
   "metadata": {},
   "source": [
    "1.\tTokenization: Write a Python script to tokenize a given sentence using NLTK.\n",
    "2.\tStop Words Removal: Write a Python script to remove stop words from a given text using NLTK.\n",
    "3.\tFrequency Distribution: Create a frequency distribution of words in a given text using NLTK.\n",
    "4.\tSentiment Analysis with VADER: Use NLTK’s VADER sentiment analyzer to determine the sentiment of a given sentence.\n",
    "5.\tPOS Tagging: Write a Python script to perform part-of-speech tagging on a given sentence using NLTK.\n"
   ]
  },
  {
   "cell_type": "markdown",
   "id": "8643ceb4-3cbe-41fe-8286-3699806042bd",
   "metadata": {},
   "source": [
    "6.\tCustom Sentiment Analysis: Train a custom sentiment analysis classifier using NLTK and a labeled dataset of positive and negative movie reviews.\n",
    "7.\tFeature Extraction: Write a Python script to extract features from text data for sentiment analysis using NLTK.\n",
    "8.\tComparing Classifiers: Compare the performance of different classifiers (e.g., Naive Bayes, Decision Tree) for sentiment analysis using NLTK.\n",
    "9.\tHandling Imbalanced Data: Write a Python script to handle imbalanced data in a sentiment analysis task using NLTK.\n",
    "10.\tAdvanced Sentiment Analysis: Implement a sentiment analysis pipeline that includes text preprocessing, feature extraction, and classification using NLTK and scikit-learn.\n"
   ]
  },
  {
   "cell_type": "code",
   "execution_count": null,
   "id": "f57ea69e-778d-4dfd-9e08-6f94fe1f3603",
   "metadata": {},
   "outputs": [],
   "source": []
  }
 ],
 "metadata": {
  "kernelspec": {
   "display_name": "Python 3 (ipykernel)",
   "language": "python",
   "name": "python3"
  },
  "language_info": {
   "codemirror_mode": {
    "name": "ipython",
    "version": 3
   },
   "file_extension": ".py",
   "mimetype": "text/x-python",
   "name": "python",
   "nbconvert_exporter": "python",
   "pygments_lexer": "ipython3",
   "version": "3.12.5"
  }
 },
 "nbformat": 4,
 "nbformat_minor": 5
}
