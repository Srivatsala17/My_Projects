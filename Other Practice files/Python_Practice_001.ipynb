{
 "cells": [
  {
   "cell_type": "markdown",
   "id": "4d2aba20-0952-4748-902b-0869a6b53119",
   "metadata": {},
   "source": [
    "1.\tTwo Sum Problem: Given an array of integers, return indices of the two numbers such that they add up to a specific target."
   ]
  },
  {
   "cell_type": "code",
   "execution_count": 11,
   "id": "89f72ac5-715b-420d-b635-975432d5b9fe",
   "metadata": {},
   "outputs": [
    {
     "name": "stdin",
     "output_type": "stream",
     "text": [
      "Enter the length of array 5\n",
      "Enter a number 1\n",
      "Enter a number 4\n",
      "Enter a number 5\n",
      "Enter a number 6\n",
      "Enter a number 7\n"
     ]
    },
    {
     "name": "stdout",
     "output_type": "stream",
     "text": [
      "Your array is [1, 4, 5, 6, 7]\n"
     ]
    },
    {
     "name": "stdin",
     "output_type": "stream",
     "text": [
      "Enter your target number 10\n"
     ]
    },
    {
     "name": "stdout",
     "output_type": "stream",
     "text": [
      "The numbers 4 and 6 sums up to the number you entered which is 10\n",
      "The index of 4 and 6 is 1 and 3\n",
      "The numbers 5 and 5 sums up to the number you entered which is 10\n",
      "The index of 5 and 5 is 2 and 2\n",
      "The numbers 6 and 4 sums up to the number you entered which is 10\n",
      "The index of 6 and 4 is 3 and 1\n"
     ]
    }
   ],
   "source": [
    "def add():\n",
    "    n = int(input(\"Enter the length of array\"))\n",
    "    n = n-1\n",
    "    arr = []\n",
    "    i = 0\n",
    "    while n >=i:\n",
    "        e = int(input(\"Enter a number\"))\n",
    "        arr.append(e)\n",
    "        n = n-1\n",
    "    print(\"Your array is {}\".format(arr))\n",
    "    target = int(input(\"Enter your target number\"))\n",
    "    for i in arr:\n",
    "        for j in arr:\n",
    "            if i+j == target:\n",
    "                print(\"The numbers {} and {} sums up to the number you entered which is {}\".format(i,j,target))\n",
    "        \n",
    "                print(\"The index of {} and {} is {} and {}\".format(i,j, arr.index(i), arr.index(j)))\n",
    "     \n",
    "add()"
   ]
  },
  {
   "cell_type": "code",
   "execution_count": 17,
   "id": "ef03e9ff-d505-47e2-8c6c-9cbe576f7ea0",
   "metadata": {},
   "outputs": [
    {
     "name": "stdin",
     "output_type": "stream",
     "text": [
      "Enter the length of array 5\n",
      "Enter a number 1\n",
      "Enter a number 2\n",
      "Enter a number 3\n",
      "Enter a number 4\n",
      "Enter a number 5\n"
     ]
    },
    {
     "name": "stdout",
     "output_type": "stream",
     "text": [
      "Your array is [1 2 3 4 5]\n"
     ]
    }
   ],
   "source": [
    "import numpy as np\n",
    "n = int(input(\"Enter the length of array\"))\n",
    "n = n-1\n",
    "arr = []\n",
    "i = 0\n",
    "while n >=i:\n",
    "    e = int(input(\"Enter a number\"))\n",
    "    arr.append(e)\n",
    "    n = n-1\n",
    "\n",
    "my_arr = np.array(arr)\n",
    "print(\"Your array is {}\".format(my_arr))"
   ]
  },
  {
   "cell_type": "markdown",
   "id": "2fccbd47-eee6-4717-94e4-e497a6900bbd",
   "metadata": {},
   "source": [
    "2.\tLongest Substring Without Repeating Characters: Find the length of the longest substring without repeating characters."
   ]
  },
  {
   "cell_type": "code",
   "execution_count": 21,
   "id": "344270ef-0733-4c20-9d3d-79a453f9a3f1",
   "metadata": {},
   "outputs": [
    {
     "name": "stdin",
     "output_type": "stream",
     "text": [
      "Enter a string abcabcbc\n"
     ]
    },
    {
     "name": "stdout",
     "output_type": "stream",
     "text": [
      "The entered string is abcabcbc\n",
      "The longest substring is abc\n",
      "The length of the substring is 3\n"
     ]
    }
   ],
   "source": [
    "string = input(\"Enter a string\")\n",
    "print(\"The entered string is {}\". format(string))\n",
    "sub_string = \"\"\n",
    "for i in range(len(string)):\n",
    "    if string[i] in sub_string:\n",
    "        print(\"The longest substring is {}\".format(sub_string))\n",
    "        length = len(sub_string)\n",
    "        print(\"The length of the substring is {}\".format(length))\n",
    "        break\n",
    "    else:\n",
    "        sub_string += string[i]\n",
    "\n",
    "    "
   ]
  },
  {
   "cell_type": "markdown",
   "id": "264d82f1-5824-4df0-a3f8-6149bd250b46",
   "metadata": {},
   "source": [
    "3.\tMedian of Two Sorted Arrays: Find the median of two sorted arrays of different sizes."
   ]
  },
  {
   "cell_type": "code",
   "execution_count": 57,
   "id": "cf90d1ee-6186-459e-83b1-1fa8965e5afa",
   "metadata": {},
   "outputs": [
    {
     "name": "stdout",
     "output_type": "stream",
     "text": [
      "The 2 arrays are [ 1  3  9  5  6  9  5  9  3  4 10] and [ 2 12 19 20  4 17  4  3  7 13]\n",
      "The medians are 5.0 and 9.5\n",
      "The median is 5\n",
      "The median is 9.5 \n"
     ]
    }
   ],
   "source": [
    "import random\n",
    "import numpy as np\n",
    "import statistics\n",
    "list1 = []\n",
    "list2 = []\n",
    "for i in range(11):\n",
    "    list1.append(random.randint(1,10))\n",
    "for i in range(10):\n",
    "    list2.append(random.randint(1,20))\n",
    "arr1 = np.array(list1)\n",
    "arr2 = np.array(list2)\n",
    "print(\"The 2 arrays are {} and {}\".format(arr1,arr2))\n",
    "\n",
    "\n",
    "median1 =np.median(arr1)\n",
    "median2 = np.median(arr2)\n",
    "print(\"The medians are {} and {}\".format(median1,median2))\n",
    "\n",
    "def median_arr (array):\n",
    "    sorted_array = sorted(array)\n",
    "    if len(array)%2 == 0: #even  number   6/2 = 3 (1,2,3,4,5,6) , 12/2 = 6 (1,2,3,4,5,6,7,8,9,10,11,12) \n",
    "        div = int(len(array)/2)\n",
    "        median1 = (sorted_array[div] + sorted_array[div-1]) /2\n",
    "        print(\"The median is {} \".format(median1))\n",
    "        \n",
    "    else: #odd number  5/2 = 2.5 (1,2,3,4,5) \n",
    "        div = int(len(array)/2)\n",
    "        median2 = sorted_array[div]\n",
    "        print(\"The median is {}\".format(median2))\n",
    "        \n",
    "\n",
    "median_arr(arr1)\n",
    "median_arr(arr2)"
   ]
  },
  {
   "cell_type": "markdown",
   "id": "796a62b4-fa57-4400-986d-eab673afb277",
   "metadata": {},
   "source": [
    "4.\tAnagram"
   ]
  },
  {
   "cell_type": "code",
   "execution_count": 1,
   "id": "e611f8d3-ccbb-4583-9ed2-dfcd4be0c770",
   "metadata": {},
   "outputs": [
    {
     "name": "stderr",
     "output_type": "stream",
     "text": [
      "[nltk_data] Downloading package words to\n",
      "[nltk_data]     C:\\Users\\hp\\AppData\\Roaming\\nltk_data...\n",
      "[nltk_data]   Package words is already up-to-date!\n"
     ]
    },
    {
     "name": "stdout",
     "output_type": "stream",
     "text": [
      "{'light'}\n",
      "{'enlist', 'silent', 'listen', 'tinsel'}\n"
     ]
    }
   ],
   "source": [
    "import nltk\n",
    "from nltk.corpus import words\n",
    "from itertools import permutations\n",
    "\n",
    "nltk.download('words')\n",
    "valid_words = set(words.words())\n",
    "\n",
    "def generate_anagrams(word):\n",
    "    perms = [''.join(p) for p in permutations(word)]\n",
    "    anagrams = set(perms) & valid_words\n",
    "    print(anagrams)\n",
    "\n",
    "word1 = \"light\"\n",
    "word2 = \"silent\"\n",
    "generate_anagrams(word1)\n",
    "generate_anagrams(word2)"
   ]
  },
  {
   "cell_type": "markdown",
   "id": "7e08bd50-2aa2-45dc-b990-be650ff8932b",
   "metadata": {},
   "source": [
    "Check if a string is substring of another"
   ]
  },
  {
   "cell_type": "code",
   "execution_count": 2,
   "id": "819c8917-84d8-4e0b-a89d-ff0bd46fd46c",
   "metadata": {},
   "outputs": [
    {
     "name": "stdin",
     "output_type": "stream",
     "text": [
      "Enter a string detemination\n",
      "Enter a substring on\n"
     ]
    },
    {
     "name": "stdout",
     "output_type": "stream",
     "text": [
      "True\n"
     ]
    }
   ],
   "source": [
    "string = input(\"Enter a string\").lower()\n",
    "substring = input(\"Enter a substring\").lower()\n",
    "# Determination , nation \n",
    "\n",
    "if substring in string:\n",
    "    print(\"True\")\n",
    "else:\n",
    "    print(\"False\")"
   ]
  },
  {
   "cell_type": "markdown",
   "id": "4788b9c9-3110-4402-b98e-85290a7eb689",
   "metadata": {},
   "source": [
    "5.\tGroup Anagrams: Given an array of strings, group anagrams together."
   ]
  },
  {
   "cell_type": "code",
   "execution_count": 90,
   "id": "c8e6fc09-30ad-4380-9a49-464089f782c9",
   "metadata": {},
   "outputs": [
    {
     "name": "stdin",
     "output_type": "stream",
     "text": [
      "Enter the length of the array of the strings 4\n",
      "Enter a word listen\n",
      "Enter a word silent\n",
      "Enter a word ate\n",
      "Enter a word eat\n"
     ]
    },
    {
     "name": "stdout",
     "output_type": "stream",
     "text": [
      "The array of strings is ['listen' 'silent' 'ate' 'eat']\n",
      "{'silent', 'listen'}\n",
      "{'silent', 'listen'}\n",
      "{'eat', 'ate'}\n",
      "{'ate', 'eat'}\n"
     ]
    }
   ],
   "source": [
    "import nltk\n",
    "import numpy as np\n",
    "from nltk.corpus import words\n",
    "from itertools import permutations\n",
    "\n",
    "valid_words = set(words.words())\n",
    "string = []\n",
    "\n",
    "def trueorfalse():\n",
    "    n = int(input(\"Enter the length of the array of the strings\"))\n",
    "    for i in range(n):\n",
    "        given_words = input(\"Enter a word\")\n",
    "        string.append(given_words)\n",
    "    array = np.array(string)\n",
    "    print(\"The array of strings is {}\".format(array))\n",
    "\n",
    "    for w in array:\n",
    "        perm = [''.join(l) for l in permutations(w)]\n",
    "        anagrams = set(perm) & valid_words \n",
    "        pair = []\n",
    "        for j in anagrams:\n",
    "            if j in array:\n",
    "                pair.append(j) \n",
    "        print(pair)\n",
    "\n",
    "trueorfalse()\n"
   ]
  },
  {
   "cell_type": "markdown",
   "id": "7d2563cc-a9f4-4860-860b-2fc97d81415d",
   "metadata": {},
   "source": [
    "8.\tProduct of Array Except Self: Given an array nums of n integers where n > 1, return an array output such that output[i] is equal to the product of all the elements of nums except nums[i]."
   ]
  },
  {
   "cell_type": "markdown",
   "id": "49b88de7-f732-42e7-892b-b8f054b48262",
   "metadata": {},
   "source": [
    "nums = [1, 2, 3, 4]. The output should be [24, 12, 8, 6] because:  \n",
    "\n",
    "output[0] is the product of 2 * 3 * 4 = 24  \n",
    "output[1] is the product of 1 * 3 * 4 = 12  \n",
    "output[2] is the product of 1 * 2 * 4 = 8  \n",
    "output[3] is the product of 1 * 2 * 3 = 6  "
   ]
  },
  {
   "cell_type": "code",
   "execution_count": 110,
   "id": "f60dc43b-2ca3-4d61-b6db-5240eacd50e3",
   "metadata": {},
   "outputs": [
    {
     "name": "stdout",
     "output_type": "stream",
     "text": [
      "[24, 12, 8, 6]\n"
     ]
    }
   ],
   "source": [
    "nums = [1, 2, 3, 4]\n",
    "output = []\n",
    "outputs = 1\n",
    "for i in nums:\n",
    "    outputs = 1\n",
    "    nums = [1, 2, 3, 4]\n",
    "    nums.remove(i)\n",
    "    for n in nums:\n",
    "        outputs *= n\n",
    "    output.append(outputs)\n",
    "print(output)\n",
    "    "
   ]
  },
  {
   "cell_type": "markdown",
   "id": "fc6cf584-c781-47d3-80db-9037c71dc4a4",
   "metadata": {},
   "source": [
    "9.\tValid Parentheses: Given a string containing just the characters ‘(’, ‘)’, ‘{’, ‘}’, ‘[’ and ‘]’, determine if the input string is valid."
   ]
  },
  {
   "cell_type": "code",
   "execution_count": 126,
   "id": "a7a6f8b2-084e-4cef-94fd-afce41f10b98",
   "metadata": {},
   "outputs": [
    {
     "name": "stdout",
     "output_type": "stream",
     "text": [
      "Matched\n"
     ]
    }
   ],
   "source": [
    "#string  = \"(){}[]()[]{}\"\n",
    "string  = \"(){[]()[]{}\"\n",
    "\n",
    "mapping = {\n",
    "    '(' : ')',\n",
    "    ')' : '(',\n",
    "    '[' : ']',\n",
    "    ']' : '[',\n",
    "    '{' : '}',\n",
    "    '}' : '{'\n",
    "}\n",
    "unmatched = \"\"\n",
    "for char in string:\n",
    "    if char in mapping.keys():\n",
    "        string = string.replace(char, \"\")\n",
    "        string = string.replace(mapping[char], \"\")\n",
    "    else:\n",
    "        string = string.replace(char, \"\")\n",
    "        unmatched += char\n",
    "if len(string) == 0 and len(unmatched) == 0:\n",
    "    print(\"Matched\")\n",
    "else:\n",
    "    print(\" The is an extra {}\".format(unmatched))\n"
   ]
  },
  {
   "cell_type": "markdown",
   "id": "df2f1144-62b8-4646-add0-a30a40a213a5",
   "metadata": {},
   "source": [
    "10.\tKth Largest Element in an Array: Find the kth largest element in an unsorted array."
   ]
  },
  {
   "cell_type": "code",
   "execution_count": 133,
   "id": "9907b0ae-84c4-492d-870a-b8ebde09fc5f",
   "metadata": {},
   "outputs": [
    {
     "name": "stdin",
     "output_type": "stream",
     "text": [
      "Enter the no of elements in an array 5\n"
     ]
    },
    {
     "name": "stdout",
     "output_type": "stream",
     "text": [
      "The random list with 5 elements is [56, 51, 79, 74, 67]\n"
     ]
    },
    {
     "name": "stdin",
     "output_type": "stream",
     "text": [
      "Enter a number 2\n"
     ]
    },
    {
     "name": "stdout",
     "output_type": "stream",
     "text": [
      "79\n"
     ]
    }
   ],
   "source": [
    "import random\n",
    "n = int(input(\"Enter the no of elements in an array\"))\n",
    "list = []\n",
    "for i in range (n):\n",
    "    list.append(random.randint(1,100))\n",
    "print(\"The random list with {} elements is {}\".format(n, list))\n",
    "k = int(input(\"Enter a number\"))\n",
    "loop = 1\n",
    "big_num = 0\n",
    "for j in list:\n",
    "    if j > big_num:\n",
    "        big_num = j\n",
    "    \n",
    "if n==loop:\n",
    "    list.remove(big_num)\n",
    "\n",
    "    \n"
   ]
  },
  {
   "cell_type": "code",
   "execution_count": null,
   "id": "06d9e8bd-e795-4da7-b0e0-cfda8b54ffd9",
   "metadata": {},
   "outputs": [],
   "source": []
  }
 ],
 "metadata": {
  "kernelspec": {
   "display_name": "Python 3 (ipykernel)",
   "language": "python",
   "name": "python3"
  },
  "language_info": {
   "codemirror_mode": {
    "name": "ipython",
    "version": 3
   },
   "file_extension": ".py",
   "mimetype": "text/x-python",
   "name": "python",
   "nbconvert_exporter": "python",
   "pygments_lexer": "ipython3",
   "version": "3.12.5"
  }
 },
 "nbformat": 4,
 "nbformat_minor": 5
}
