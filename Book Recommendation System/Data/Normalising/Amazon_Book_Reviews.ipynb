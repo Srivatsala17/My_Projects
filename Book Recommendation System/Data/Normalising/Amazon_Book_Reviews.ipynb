{
 "cells": [
  {
   "cell_type": "markdown",
   "id": "bb80581e-a099-4b55-b44f-c40ed630946e",
   "metadata": {},
   "source": [
    "# Reading and understanding the data from Amazon Book Reviews Dataset from Kaggle"
   ]
  },
  {
   "cell_type": "markdown",
   "id": "a92c00d3-b06c-4020-aaba-3b2bfaa8e32e",
   "metadata": {},
   "source": [
    "## Reading the first csv file "
   ]
  },
  {
   "cell_type": "code",
   "execution_count": 2,
   "id": "c8e516f9-b38c-400a-890f-990cbf390b95",
   "metadata": {},
   "outputs": [],
   "source": [
    "import pandas as pd #importing the library\n",
    "book_data = pd.read_csv('books_data.csv')\n",
    "#book_data"
   ]
  },
  {
   "cell_type": "markdown",
   "id": "74aed850-7896-4e3a-a8ea-ccd8afd240e4",
   "metadata": {},
   "source": [
    "## Check the column names and droping the unwanted columns\n",
    "\n",
    "#### The actual size of these two datasets are too large(more than 1 GB), so dropping unwanted columns can help to load teh data faster"
   ]
  },
  {
   "cell_type": "code",
   "execution_count": 4,
   "id": "a65a34ef-535b-469a-ab1d-390ee64efccb",
   "metadata": {},
   "outputs": [
    {
     "name": "stdout",
     "output_type": "stream",
     "text": [
      "<class 'pandas.core.frame.DataFrame'>\n",
      "RangeIndex: 212404 entries, 0 to 212403\n",
      "Data columns (total 7 columns):\n",
      " #   Column         Non-Null Count   Dtype  \n",
      "---  ------         --------------   -----  \n",
      " 0   Title          212403 non-null  object \n",
      " 1   description    143962 non-null  object \n",
      " 2   authors        180991 non-null  object \n",
      " 3   publisher      136518 non-null  object \n",
      " 4   publishedDate  187099 non-null  object \n",
      " 5   categories     171205 non-null  object \n",
      " 6   ratingsCount   49752 non-null   float64\n",
      "dtypes: float64(1), object(6)\n",
      "memory usage: 11.3+ MB\n"
     ]
    }
   ],
   "source": [
    "book_data.info()"
   ]
  },
  {
   "cell_type": "code",
   "execution_count": 3,
   "id": "61beb8ca-f396-49f9-b557-4b2ac5a0afe7",
   "metadata": {},
   "outputs": [],
   "source": [
    "book_data.drop(columns = ['image' , 'previewLink', 'infoLink'] , inplace = True) "
   ]
  },
  {
   "cell_type": "markdown",
   "id": "aa01ce94-402f-4818-a5ba-ea92ebca9e28",
   "metadata": {},
   "source": [
    "## Reading the second dataset and dropping the unwanted columns"
   ]
  },
  {
   "cell_type": "code",
   "execution_count": 5,
   "id": "16416a00-4aa4-4211-b6a0-65a7f3587156",
   "metadata": {},
   "outputs": [],
   "source": [
    "import pandas as pd\n",
    "book_reviews = pd.read_csv('Books_rating.csv')\n",
    "#book_reviews"
   ]
  },
  {
   "cell_type": "code",
   "execution_count": 7,
   "id": "e53be702-7edb-4c05-8afd-6c26191ae303",
   "metadata": {},
   "outputs": [],
   "source": [
    "book_reviews.drop(columns = ['Id', 'User_id', 'profileName', 'review/time' ] , inplace = True) "
   ]
  },
  {
   "cell_type": "code",
   "execution_count": 8,
   "id": "63e0c8c6-e01a-4aa1-9179-84cf79b83013",
   "metadata": {},
   "outputs": [
    {
     "name": "stdout",
     "output_type": "stream",
     "text": [
      "<class 'pandas.core.frame.DataFrame'>\n",
      "RangeIndex: 3000000 entries, 0 to 2999999\n",
      "Data columns (total 6 columns):\n",
      " #   Column              Dtype  \n",
      "---  ------              -----  \n",
      " 0   Title               object \n",
      " 1   Price               float64\n",
      " 2   review/helpfulness  object \n",
      " 3   review/score        float64\n",
      " 4   review/summary      object \n",
      " 5   review/text         object \n",
      "dtypes: float64(2), object(4)\n",
      "memory usage: 137.3+ MB\n"
     ]
    }
   ],
   "source": [
    "book_reviews.info()"
   ]
  },
  {
   "cell_type": "markdown",
   "id": "de3f4157-d103-4c90-ab1c-b83cde127f0f",
   "metadata": {},
   "source": [
    "## The user entered data might have inconsistent data so changing them to same format"
   ]
  },
  {
   "cell_type": "code",
   "execution_count": 9,
   "id": "b6c91f43-50b4-4bab-bd49-38ee2c25e172",
   "metadata": {},
   "outputs": [
    {
     "data": {
      "text/plain": [
       "0                            Its Only Art If Its Well Hung!\n",
       "1                                  Dr. Seuss: American Icon\n",
       "2                     Wonderful Worship In Smaller Churches\n",
       "3                             Whispers Of The Wicked Saints\n",
       "4         Nation Dance: Religion, Identity And Cultural ...\n",
       "                                ...                        \n",
       "212399    The Orphan Of Ellis Island (Time Travel Advent...\n",
       "212400                              Red Boots For Christmas\n",
       "212401                                                Mamaw\n",
       "212402                                    The Autograph Man\n",
       "212403    Student'S Solutions Manual For Johnson/Mowry'S...\n",
       "Name: Title, Length: 212404, dtype: object"
      ]
     },
     "execution_count": 9,
     "metadata": {},
     "output_type": "execute_result"
    }
   ],
   "source": [
    "book_data.Title.str.title()"
   ]
  },
  {
   "cell_type": "code",
   "execution_count": 10,
   "id": "d4a84fad-4244-4212-93e0-2a1114666045",
   "metadata": {},
   "outputs": [
    {
     "data": {
      "text/plain": [
       "0                            Its Only Art If Its Well Hung!\n",
       "1                                  Dr. Seuss: American Icon\n",
       "2                     Wonderful Worship in Smaller Churches\n",
       "3                             Whispers of the Wicked Saints\n",
       "4         Nation Dance: Religion, Identity and Cultural ...\n",
       "                                ...                        \n",
       "212399    The Orphan Of Ellis Island (Time Travel Advent...\n",
       "212400                              Red Boots for Christmas\n",
       "212401                                                Mamaw\n",
       "212402                                    The Autograph Man\n",
       "212403    Student's Solutions Manual for Johnson/Mowry's...\n",
       "Name: Title, Length: 212404, dtype: object"
      ]
     },
     "execution_count": 10,
     "metadata": {},
     "output_type": "execute_result"
    }
   ],
   "source": [
    "# getting rid of trailing whitespace\n",
    "\n",
    "book_data.Title.str.strip()"
   ]
  },
  {
   "cell_type": "code",
   "execution_count": 11,
   "id": "9fae0062-6b28-4696-93c2-bfbc35e7ccc0",
   "metadata": {},
   "outputs": [
    {
     "data": {
      "text/plain": [
       "0          Its Only Art If Its Well Hung!\n",
       "1                Dr. Seuss: American Icon\n",
       "2                Dr. Seuss: American Icon\n",
       "3                Dr. Seuss: American Icon\n",
       "4                Dr. Seuss: American Icon\n",
       "                        ...              \n",
       "2999995               The Idea Of History\n",
       "2999996               The Idea Of History\n",
       "2999997               The Idea Of History\n",
       "2999998               The Idea Of History\n",
       "2999999               The Idea Of History\n",
       "Name: Title, Length: 3000000, dtype: object"
      ]
     },
     "execution_count": 11,
     "metadata": {},
     "output_type": "execute_result"
    }
   ],
   "source": [
    "book_reviews.Title.str.title()"
   ]
  },
  {
   "cell_type": "code",
   "execution_count": 12,
   "id": "431bbd2c-66d4-4b06-aa95-fddc810a84ae",
   "metadata": {},
   "outputs": [
    {
     "data": {
      "text/plain": [
       "0          Its Only Art If Its Well Hung!\n",
       "1                Dr. Seuss: American Icon\n",
       "2                Dr. Seuss: American Icon\n",
       "3                Dr. Seuss: American Icon\n",
       "4                Dr. Seuss: American Icon\n",
       "                        ...              \n",
       "2999995               The Idea of History\n",
       "2999996               The Idea of History\n",
       "2999997               The Idea of History\n",
       "2999998               The Idea of History\n",
       "2999999               The Idea of History\n",
       "Name: Title, Length: 3000000, dtype: object"
      ]
     },
     "execution_count": 12,
     "metadata": {},
     "output_type": "execute_result"
    }
   ],
   "source": [
    "book_reviews.Title.str.strip()"
   ]
  },
  {
   "cell_type": "markdown",
   "id": "db21be74-861f-443e-8353-abfc96d4ae3c",
   "metadata": {},
   "source": [
    "## Understanding the data to normalize them"
   ]
  },
  {
   "cell_type": "code",
   "execution_count": 13,
   "id": "473db79f-bca8-40de-9f67-57c519f04fef",
   "metadata": {},
   "outputs": [
    {
     "data": {
      "text/html": [
       "<div>\n",
       "<style scoped>\n",
       "    .dataframe tbody tr th:only-of-type {\n",
       "        vertical-align: middle;\n",
       "    }\n",
       "\n",
       "    .dataframe tbody tr th {\n",
       "        vertical-align: top;\n",
       "    }\n",
       "\n",
       "    .dataframe thead th {\n",
       "        text-align: right;\n",
       "    }\n",
       "</style>\n",
       "<table border=\"1\" class=\"dataframe\">\n",
       "  <thead>\n",
       "    <tr style=\"text-align: right;\">\n",
       "      <th></th>\n",
       "      <th>ratingsCount</th>\n",
       "    </tr>\n",
       "  </thead>\n",
       "  <tbody>\n",
       "    <tr>\n",
       "      <th>count</th>\n",
       "      <td>49752.000000</td>\n",
       "    </tr>\n",
       "    <tr>\n",
       "      <th>mean</th>\n",
       "      <td>21.252975</td>\n",
       "    </tr>\n",
       "    <tr>\n",
       "      <th>std</th>\n",
       "      <td>201.340431</td>\n",
       "    </tr>\n",
       "    <tr>\n",
       "      <th>min</th>\n",
       "      <td>1.000000</td>\n",
       "    </tr>\n",
       "    <tr>\n",
       "      <th>25%</th>\n",
       "      <td>1.000000</td>\n",
       "    </tr>\n",
       "    <tr>\n",
       "      <th>50%</th>\n",
       "      <td>2.000000</td>\n",
       "    </tr>\n",
       "    <tr>\n",
       "      <th>75%</th>\n",
       "      <td>5.000000</td>\n",
       "    </tr>\n",
       "    <tr>\n",
       "      <th>max</th>\n",
       "      <td>4895.000000</td>\n",
       "    </tr>\n",
       "  </tbody>\n",
       "</table>\n",
       "</div>"
      ],
      "text/plain": [
       "       ratingsCount\n",
       "count  49752.000000\n",
       "mean      21.252975\n",
       "std      201.340431\n",
       "min        1.000000\n",
       "25%        1.000000\n",
       "50%        2.000000\n",
       "75%        5.000000\n",
       "max     4895.000000"
      ]
     },
     "execution_count": 13,
     "metadata": {},
     "output_type": "execute_result"
    }
   ],
   "source": [
    "book_data.describe()"
   ]
  },
  {
   "cell_type": "markdown",
   "id": "754a3f34-2456-460d-938d-3cde6799493c",
   "metadata": {},
   "source": [
    "## Before normalizing changing the column names so that all of them are in the same format"
   ]
  },
  {
   "cell_type": "code",
   "execution_count": 15,
   "id": "3d2ed7fb-3c87-4c3e-9732-4b5ae29bab28",
   "metadata": {},
   "outputs": [],
   "source": [
    "#reanaming the columns\n",
    "\n",
    "book_data.rename(columns = {'Title' : 'title', 'publishedDate' : 'published_date', 'ratingsCount' : 'ratings_count'}, inplace = True)\n"
   ]
  },
  {
   "cell_type": "markdown",
   "id": "685d9a55-1109-49ea-a2aa-f4679fda4d88",
   "metadata": {},
   "source": [
    "## Checking if numeric columns have int or float fdatatype and string columns have object datatype"
   ]
  },
  {
   "cell_type": "code",
   "execution_count": 16,
   "id": "2d8c2286-4682-4dc1-a160-ef7d2ffc72e3",
   "metadata": {},
   "outputs": [
    {
     "name": "stdout",
     "output_type": "stream",
     "text": [
      "<class 'pandas.core.frame.DataFrame'>\n",
      "RangeIndex: 212404 entries, 0 to 212403\n",
      "Data columns (total 7 columns):\n",
      " #   Column          Non-Null Count   Dtype  \n",
      "---  ------          --------------   -----  \n",
      " 0   title           212403 non-null  object \n",
      " 1   description     143962 non-null  object \n",
      " 2   authors         180991 non-null  object \n",
      " 3   publisher       136518 non-null  object \n",
      " 4   published_date  187099 non-null  object \n",
      " 5   categories      171205 non-null  object \n",
      " 6   ratings_count   49752 non-null   float64\n",
      "dtypes: float64(1), object(6)\n",
      "memory usage: 11.3+ MB\n"
     ]
    }
   ],
   "source": [
    "book_data.info()"
   ]
  },
  {
   "cell_type": "markdown",
   "id": "ab615635-90fc-4567-8472-e55390d6238a",
   "metadata": {},
   "source": [
    "## Following the same for the 2nd dataset"
   ]
  },
  {
   "cell_type": "code",
   "execution_count": 20,
   "id": "29e61200-3ded-4a4c-b15c-9a5b1b1e485c",
   "metadata": {},
   "outputs": [],
   "source": [
    "#reanaming the columns\n",
    "\n",
    "book_reviews.rename(columns = {'Title' : 'title', 'Price' : 'price', 'review/helpfulness' : 'review_helpfulness', 'review/score' :'review_score', 'review/summary':'review_summary','review/text':'review_text' }, inplace = True)\n"
   ]
  },
  {
   "cell_type": "code",
   "execution_count": 21,
   "id": "41632242-d2cc-4772-a3d4-2245d3fd61ca",
   "metadata": {},
   "outputs": [
    {
     "name": "stdout",
     "output_type": "stream",
     "text": [
      "<class 'pandas.core.frame.DataFrame'>\n",
      "RangeIndex: 3000000 entries, 0 to 2999999\n",
      "Data columns (total 6 columns):\n",
      " #   Column              Dtype  \n",
      "---  ------              -----  \n",
      " 0   title               object \n",
      " 1   price               float64\n",
      " 2   review_helpfulness  object \n",
      " 3   review_score        float64\n",
      " 4   review_summary      object \n",
      " 5   review_text         object \n",
      "dtypes: float64(2), object(4)\n",
      "memory usage: 137.3+ MB\n"
     ]
    }
   ],
   "source": [
    "book_reviews.info()"
   ]
  },
  {
   "cell_type": "markdown",
   "id": "c530bcce-143c-4a1a-b724-cd517834fcd0",
   "metadata": {},
   "source": [
    "## Normalizing the data "
   ]
  },
  {
   "cell_type": "code",
   "execution_count": 22,
   "id": "a7b4e3d0-8146-4d90-9f15-822b9c876b3c",
   "metadata": {},
   "outputs": [],
   "source": [
    "col = ['ratings_count']\n",
    "book_data[col] = (book_data[col] - book_data[col].min()) / (book_data[col].max() - book_data[col].min())"
   ]
  },
  {
   "cell_type": "code",
   "execution_count": 24,
   "id": "33767244-1a7b-4a29-8425-2e6e5d9e0c03",
   "metadata": {},
   "outputs": [
    {
     "data": {
      "text/html": [
       "<div>\n",
       "<style scoped>\n",
       "    .dataframe tbody tr th:only-of-type {\n",
       "        vertical-align: middle;\n",
       "    }\n",
       "\n",
       "    .dataframe tbody tr th {\n",
       "        vertical-align: top;\n",
       "    }\n",
       "\n",
       "    .dataframe thead th {\n",
       "        text-align: right;\n",
       "    }\n",
       "</style>\n",
       "<table border=\"1\" class=\"dataframe\">\n",
       "  <thead>\n",
       "    <tr style=\"text-align: right;\">\n",
       "      <th></th>\n",
       "      <th>ratings_count</th>\n",
       "    </tr>\n",
       "  </thead>\n",
       "  <tbody>\n",
       "    <tr>\n",
       "      <th>count</th>\n",
       "      <td>49752.000000</td>\n",
       "    </tr>\n",
       "    <tr>\n",
       "      <th>mean</th>\n",
       "      <td>0.004138</td>\n",
       "    </tr>\n",
       "    <tr>\n",
       "      <th>std</th>\n",
       "      <td>0.041140</td>\n",
       "    </tr>\n",
       "    <tr>\n",
       "      <th>min</th>\n",
       "      <td>0.000000</td>\n",
       "    </tr>\n",
       "    <tr>\n",
       "      <th>25%</th>\n",
       "      <td>0.000000</td>\n",
       "    </tr>\n",
       "    <tr>\n",
       "      <th>50%</th>\n",
       "      <td>0.000204</td>\n",
       "    </tr>\n",
       "    <tr>\n",
       "      <th>75%</th>\n",
       "      <td>0.000817</td>\n",
       "    </tr>\n",
       "    <tr>\n",
       "      <th>max</th>\n",
       "      <td>1.000000</td>\n",
       "    </tr>\n",
       "  </tbody>\n",
       "</table>\n",
       "</div>"
      ],
      "text/plain": [
       "       ratings_count\n",
       "count   49752.000000\n",
       "mean        0.004138\n",
       "std         0.041140\n",
       "min         0.000000\n",
       "25%         0.000000\n",
       "50%         0.000204\n",
       "75%         0.000817\n",
       "max         1.000000"
      ]
     },
     "execution_count": 24,
     "metadata": {},
     "output_type": "execute_result"
    }
   ],
   "source": [
    "book_data.describe()"
   ]
  },
  {
   "cell_type": "code",
   "execution_count": 25,
   "id": "ef2823a0-ea03-4f8b-8278-e6011d97317f",
   "metadata": {},
   "outputs": [
    {
     "data": {
      "text/html": [
       "<div>\n",
       "<style scoped>\n",
       "    .dataframe tbody tr th:only-of-type {\n",
       "        vertical-align: middle;\n",
       "    }\n",
       "\n",
       "    .dataframe tbody tr th {\n",
       "        vertical-align: top;\n",
       "    }\n",
       "\n",
       "    .dataframe thead th {\n",
       "        text-align: right;\n",
       "    }\n",
       "</style>\n",
       "<table border=\"1\" class=\"dataframe\">\n",
       "  <thead>\n",
       "    <tr style=\"text-align: right;\">\n",
       "      <th></th>\n",
       "      <th>price</th>\n",
       "      <th>review_score</th>\n",
       "    </tr>\n",
       "  </thead>\n",
       "  <tbody>\n",
       "    <tr>\n",
       "      <th>count</th>\n",
       "      <td>481171.000000</td>\n",
       "      <td>3.000000e+06</td>\n",
       "    </tr>\n",
       "    <tr>\n",
       "      <th>mean</th>\n",
       "      <td>21.762656</td>\n",
       "      <td>4.215289e+00</td>\n",
       "    </tr>\n",
       "    <tr>\n",
       "      <th>std</th>\n",
       "      <td>26.206541</td>\n",
       "      <td>1.203054e+00</td>\n",
       "    </tr>\n",
       "    <tr>\n",
       "      <th>min</th>\n",
       "      <td>1.000000</td>\n",
       "      <td>1.000000e+00</td>\n",
       "    </tr>\n",
       "    <tr>\n",
       "      <th>25%</th>\n",
       "      <td>10.780000</td>\n",
       "      <td>4.000000e+00</td>\n",
       "    </tr>\n",
       "    <tr>\n",
       "      <th>50%</th>\n",
       "      <td>14.930000</td>\n",
       "      <td>5.000000e+00</td>\n",
       "    </tr>\n",
       "    <tr>\n",
       "      <th>75%</th>\n",
       "      <td>23.950000</td>\n",
       "      <td>5.000000e+00</td>\n",
       "    </tr>\n",
       "    <tr>\n",
       "      <th>max</th>\n",
       "      <td>995.000000</td>\n",
       "      <td>5.000000e+00</td>\n",
       "    </tr>\n",
       "  </tbody>\n",
       "</table>\n",
       "</div>"
      ],
      "text/plain": [
       "               price  review_score\n",
       "count  481171.000000  3.000000e+06\n",
       "mean       21.762656  4.215289e+00\n",
       "std        26.206541  1.203054e+00\n",
       "min         1.000000  1.000000e+00\n",
       "25%        10.780000  4.000000e+00\n",
       "50%        14.930000  5.000000e+00\n",
       "75%        23.950000  5.000000e+00\n",
       "max       995.000000  5.000000e+00"
      ]
     },
     "execution_count": 25,
     "metadata": {},
     "output_type": "execute_result"
    }
   ],
   "source": [
    "book_reviews.describe()"
   ]
  },
  {
   "cell_type": "code",
   "execution_count": 28,
   "id": "30462bc0-1606-4dda-ab00-edb80bc70d43",
   "metadata": {},
   "outputs": [],
   "source": [
    "col = ['price', 'review_score']\n",
    "book_reviews[col] = (book_reviews[col] - book_reviews[col].min()) / (book_reviews[col].max() - book_reviews[col].min())"
   ]
  },
  {
   "cell_type": "code",
   "execution_count": 29,
   "id": "41821b9f-a428-4e6e-af39-70117b47f317",
   "metadata": {},
   "outputs": [
    {
     "data": {
      "text/html": [
       "<div>\n",
       "<style scoped>\n",
       "    .dataframe tbody tr th:only-of-type {\n",
       "        vertical-align: middle;\n",
       "    }\n",
       "\n",
       "    .dataframe tbody tr th {\n",
       "        vertical-align: top;\n",
       "    }\n",
       "\n",
       "    .dataframe thead th {\n",
       "        text-align: right;\n",
       "    }\n",
       "</style>\n",
       "<table border=\"1\" class=\"dataframe\">\n",
       "  <thead>\n",
       "    <tr style=\"text-align: right;\">\n",
       "      <th></th>\n",
       "      <th>price</th>\n",
       "      <th>review_score</th>\n",
       "    </tr>\n",
       "  </thead>\n",
       "  <tbody>\n",
       "    <tr>\n",
       "      <th>count</th>\n",
       "      <td>481171.000000</td>\n",
       "      <td>3.000000e+06</td>\n",
       "    </tr>\n",
       "    <tr>\n",
       "      <th>mean</th>\n",
       "      <td>0.020888</td>\n",
       "      <td>8.038223e-01</td>\n",
       "    </tr>\n",
       "    <tr>\n",
       "      <th>std</th>\n",
       "      <td>0.026365</td>\n",
       "      <td>3.007634e-01</td>\n",
       "    </tr>\n",
       "    <tr>\n",
       "      <th>min</th>\n",
       "      <td>0.000000</td>\n",
       "      <td>0.000000e+00</td>\n",
       "    </tr>\n",
       "    <tr>\n",
       "      <th>25%</th>\n",
       "      <td>0.009839</td>\n",
       "      <td>7.500000e-01</td>\n",
       "    </tr>\n",
       "    <tr>\n",
       "      <th>50%</th>\n",
       "      <td>0.014014</td>\n",
       "      <td>1.000000e+00</td>\n",
       "    </tr>\n",
       "    <tr>\n",
       "      <th>75%</th>\n",
       "      <td>0.023089</td>\n",
       "      <td>1.000000e+00</td>\n",
       "    </tr>\n",
       "    <tr>\n",
       "      <th>max</th>\n",
       "      <td>1.000000</td>\n",
       "      <td>1.000000e+00</td>\n",
       "    </tr>\n",
       "  </tbody>\n",
       "</table>\n",
       "</div>"
      ],
      "text/plain": [
       "               price  review_score\n",
       "count  481171.000000  3.000000e+06\n",
       "mean        0.020888  8.038223e-01\n",
       "std         0.026365  3.007634e-01\n",
       "min         0.000000  0.000000e+00\n",
       "25%         0.009839  7.500000e-01\n",
       "50%         0.014014  1.000000e+00\n",
       "75%         0.023089  1.000000e+00\n",
       "max         1.000000  1.000000e+00"
      ]
     },
     "execution_count": 29,
     "metadata": {},
     "output_type": "execute_result"
    }
   ],
   "source": [
    "book_reviews.describe()"
   ]
  },
  {
   "cell_type": "markdown",
   "id": "b2c8b897-2fb0-45cc-9e10-89e1676b33f9",
   "metadata": {},
   "source": [
    "### Now we can see that the data is normalized, we can merge teh two dataframes"
   ]
  },
  {
   "cell_type": "markdown",
   "id": "d2892153-f827-4a7c-88e8-0cacfa99212c",
   "metadata": {},
   "source": [
    "## Merging the dataframes"
   ]
  },
  {
   "cell_type": "code",
   "execution_count": 30,
   "id": "00ed63ad-c1cf-4eea-9356-83529dda9125",
   "metadata": {},
   "outputs": [],
   "source": [
    "# merging Books_df.csv and Books_rating.csv\n",
    "\n",
    "merged_data = pd.merge(book_data, book_reviews, on='title', how='inner')"
   ]
  },
  {
   "cell_type": "markdown",
   "id": "7ecac2c4-4578-49d1-a726-825e933f2004",
   "metadata": {},
   "source": [
    "## Saving the chnages and the merged dataframe to a csv file"
   ]
  },
  {
   "cell_type": "code",
   "execution_count": null,
   "id": "ebba4bcf-aa20-4e59-a24a-be26f876efac",
   "metadata": {},
   "outputs": [],
   "source": [
    "# Save the merged data to a new CSV file\n",
    "merged_data.to_csv('books_and_reviews.csv', index=False)"
   ]
  },
  {
   "cell_type": "markdown",
   "id": "db6038d9-284a-4e33-bf2b-b0ed0983ba1d",
   "metadata": {},
   "source": [
    "### We can see that the new data is also normalized"
   ]
  },
  {
   "cell_type": "code",
   "execution_count": 2,
   "id": "370ca164-4594-4a08-9cc2-a7b38b45ff2b",
   "metadata": {},
   "outputs": [
    {
     "data": {
      "text/html": [
       "<div>\n",
       "<style scoped>\n",
       "    .dataframe tbody tr th:only-of-type {\n",
       "        vertical-align: middle;\n",
       "    }\n",
       "\n",
       "    .dataframe tbody tr th {\n",
       "        vertical-align: top;\n",
       "    }\n",
       "\n",
       "    .dataframe thead th {\n",
       "        text-align: right;\n",
       "    }\n",
       "</style>\n",
       "<table border=\"1\" class=\"dataframe\">\n",
       "  <thead>\n",
       "    <tr style=\"text-align: right;\">\n",
       "      <th></th>\n",
       "      <th>ratings_count</th>\n",
       "      <th>price</th>\n",
       "      <th>review_score</th>\n",
       "    </tr>\n",
       "  </thead>\n",
       "  <tbody>\n",
       "    <tr>\n",
       "      <th>count</th>\n",
       "      <td>889355.000000</td>\n",
       "      <td>230465.000000</td>\n",
       "      <td>1.583270e+06</td>\n",
       "    </tr>\n",
       "    <tr>\n",
       "      <th>mean</th>\n",
       "      <td>0.060555</td>\n",
       "      <td>0.020418</td>\n",
       "      <td>8.054438e-01</td>\n",
       "    </tr>\n",
       "    <tr>\n",
       "      <th>std</th>\n",
       "      <td>0.161097</td>\n",
       "      <td>0.025536</td>\n",
       "      <td>2.995465e-01</td>\n",
       "    </tr>\n",
       "    <tr>\n",
       "      <th>min</th>\n",
       "      <td>0.000000</td>\n",
       "      <td>0.000000</td>\n",
       "      <td>0.000000e+00</td>\n",
       "    </tr>\n",
       "    <tr>\n",
       "      <th>25%</th>\n",
       "      <td>0.000409</td>\n",
       "      <td>0.009799</td>\n",
       "      <td>7.500000e-01</td>\n",
       "    </tr>\n",
       "    <tr>\n",
       "      <th>50%</th>\n",
       "      <td>0.002043</td>\n",
       "      <td>0.014014</td>\n",
       "      <td>1.000000e+00</td>\n",
       "    </tr>\n",
       "    <tr>\n",
       "      <th>75%</th>\n",
       "      <td>0.013895</td>\n",
       "      <td>0.022233</td>\n",
       "      <td>1.000000e+00</td>\n",
       "    </tr>\n",
       "    <tr>\n",
       "      <th>max</th>\n",
       "      <td>1.000000</td>\n",
       "      <td>0.879276</td>\n",
       "      <td>1.000000e+00</td>\n",
       "    </tr>\n",
       "  </tbody>\n",
       "</table>\n",
       "</div>"
      ],
      "text/plain": [
       "       ratings_count          price  review_score\n",
       "count  889355.000000  230465.000000  1.583270e+06\n",
       "mean        0.060555       0.020418  8.054438e-01\n",
       "std         0.161097       0.025536  2.995465e-01\n",
       "min         0.000000       0.000000  0.000000e+00\n",
       "25%         0.000409       0.009799  7.500000e-01\n",
       "50%         0.002043       0.014014  1.000000e+00\n",
       "75%         0.013895       0.022233  1.000000e+00\n",
       "max         1.000000       0.879276  1.000000e+00"
      ]
     },
     "execution_count": 2,
     "metadata": {},
     "output_type": "execute_result"
    }
   ],
   "source": [
    "import pandas as pd\n",
    "newdata = pd.read_csv('books_and_reviews.csv')\n",
    "newdata.describe()"
   ]
  },
  {
   "cell_type": "code",
   "execution_count": 3,
   "id": "553a30ef-3299-47bd-81b6-2a098e35ade8",
   "metadata": {},
   "outputs": [
    {
     "name": "stdout",
     "output_type": "stream",
     "text": [
      "<class 'pandas.core.frame.DataFrame'>\n",
      "RangeIndex: 1583270 entries, 0 to 1583269\n",
      "Data columns (total 12 columns):\n",
      " #   Column              Non-Null Count    Dtype  \n",
      "---  ------              --------------    -----  \n",
      " 0   title               1583062 non-null  object \n",
      " 1   description         1241093 non-null  object \n",
      " 2   authors             1365062 non-null  object \n",
      " 3   publisher           1173688 non-null  object \n",
      " 4   published_date      1378140 non-null  object \n",
      " 5   categories          1273565 non-null  object \n",
      " 6   ratings_count       889355 non-null   float64\n",
      " 7   price               230465 non-null   float64\n",
      " 8   review_helpfulness  1583270 non-null  object \n",
      " 9   review_score        1583270 non-null  float64\n",
      " 10  review_summary      1583037 non-null  object \n",
      " 11  review_text         1583268 non-null  object \n",
      "dtypes: float64(3), object(9)\n",
      "memory usage: 145.0+ MB\n"
     ]
    }
   ],
   "source": [
    "newdata.info()"
   ]
  },
  {
   "cell_type": "code",
   "execution_count": null,
   "id": "157467de-7d44-41c6-a81c-7c124585ffe5",
   "metadata": {},
   "outputs": [],
   "source": []
  }
 ],
 "metadata": {
  "kernelspec": {
   "display_name": "Python 3 (ipykernel)",
   "language": "python",
   "name": "python3"
  },
  "language_info": {
   "codemirror_mode": {
    "name": "ipython",
    "version": 3
   },
   "file_extension": ".py",
   "mimetype": "text/x-python",
   "name": "python",
   "nbconvert_exporter": "python",
   "pygments_lexer": "ipython3",
   "version": "3.12.5"
  }
 },
 "nbformat": 4,
 "nbformat_minor": 5
}
