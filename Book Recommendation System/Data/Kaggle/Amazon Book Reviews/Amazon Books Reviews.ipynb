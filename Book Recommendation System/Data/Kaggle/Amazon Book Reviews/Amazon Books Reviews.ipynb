{
 "cells": [
  {
   "cell_type": "code",
   "execution_count": 2,
   "id": "a5346349-182d-41fd-b81a-b7f0a23c1509",
   "metadata": {},
   "outputs": [
    {
     "name": "stdout",
     "output_type": "stream",
     "text": [
      "Dataset URL: https://www.kaggle.com/datasets/mohamedbakhet/amazon-books-reviews\n",
      "All datasets have been downloaded and unzipped.\n"
     ]
    }
   ],
   "source": [
    "#importing libaries\n",
    "\n",
    "import kaggle\n",
    "import json\n",
    "import os\n",
    "\n",
    "# Load credentials from config file and specify the path for thr config file\n",
    "with open('C:\\\\Users\\\\kaana\\\\.kaggle\\\\kaggle.json') as config_file:\n",
    "    config = json.load(config_file)\n",
    "\n",
    "# Set Kaggle API credentials using environment variables\n",
    "os.environ['KAGGLE_USERNAME'] = config['username']\n",
    "os.environ['KAGGLE_KEY'] = config['key']\n",
    "\n",
    "# Authenticate using the Kaggle API\n",
    "kaggle.api.authenticate()\n",
    "\n",
    "# Download the dataset\n",
    "dataset_url = 'mohamedbakhet/amazon-books-reviews'\n",
    "kaggle.api.dataset_download_files(dataset_url, path='.', unzip=True)\n",
    "\n",
    "print(\"Datasets downloaded successfully !!!\") #The dataset file size is 1GB. Might take sometime to finish running the code"
   ]
  },
  {
   "cell_type": "code",
   "execution_count": null,
   "id": "c9b7eaf8-e06f-4232-8cc8-9945d9bc1d01",
   "metadata": {},
   "outputs": [],
   "source": []
  }
 ],
 "metadata": {
  "kernelspec": {
   "display_name": "Python 3 (ipykernel)",
   "language": "python",
   "name": "python3"
  },
  "language_info": {
   "codemirror_mode": {
    "name": "ipython",
    "version": 3
   },
   "file_extension": ".py",
   "mimetype": "text/x-python",
   "name": "python",
   "nbconvert_exporter": "python",
   "pygments_lexer": "ipython3",
   "version": "3.12.5"
  }
 },
 "nbformat": 4,
 "nbformat_minor": 5
}
